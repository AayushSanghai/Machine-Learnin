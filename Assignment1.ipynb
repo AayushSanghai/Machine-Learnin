{
 "cells": [
  {
   "cell_type": "markdown",
   "id": "c2b78a9c",
   "metadata": {},
   "source": [
    "# Question 1\n"
   ]
  },
  {
   "cell_type": "code",
   "execution_count": 4,
   "id": "61487e33",
   "metadata": {},
   "outputs": [
    {
     "name": "stdout",
     "output_type": "stream",
     "text": [
      "[19, 19, 20, 22, 24, 24, 24, 25, 25, 26]\n"
     ]
    }
   ],
   "source": [
    "age = [19, 22, 19, 24, 20, 25, 26, 24, 25, 24]\n",
    "age.sort()  #sorting the age list as per requirement \n",
    "print(age)  #printing the age in sorted order"
   ]
  },
  {
   "cell_type": "code",
   "execution_count": 9,
   "id": "d214e5ec",
   "metadata": {},
   "outputs": [
    {
     "name": "stdout",
     "output_type": "stream",
     "text": [
      "Max age =  26\n",
      "Min age =  19\n"
     ]
    }
   ],
   "source": [
    "maxage = max(age)   #finding the maximum age in the list\n",
    "minage = min(age)   #finding the minimum age in the list\n",
    "print(\"Max age = \",maxage)\n",
    "print(\"Min age = \",minage)"
   ]
  },
  {
   "cell_type": "code",
   "execution_count": 10,
   "id": "b21743d9",
   "metadata": {},
   "outputs": [
    {
     "name": "stdout",
     "output_type": "stream",
     "text": [
      "[19, 19, 20, 22, 24, 24, 24, 25, 25, 26, 26, 19]\n"
     ]
    }
   ],
   "source": [
    "age.append(maxage)   #adding max age to the list\n",
    "age.append(minage)   #adding min age to the list\n",
    "print(age)"
   ]
  },
  {
   "cell_type": "code",
   "execution_count": 11,
   "id": "ca7dcc15",
   "metadata": {},
   "outputs": [
    {
     "name": "stdout",
     "output_type": "stream",
     "text": [
      "Median =  24.0\n"
     ]
    }
   ],
   "source": [
    "age.sort()  #sorting the age list again to find the median\n",
    "m = len(age)   #getting the length of the list\n",
    "n = m // 2 \n",
    "if(m % 2 == 0):   #if the length is even then will take 2 middle elements\n",
    "    print(\"Median = \",(age[n-1] + age[n]) / 2)  \n",
    "else:      ##if the length is odd, just the middle element\n",
    "    print(\"Median = \",age[n])"
   ]
  },
  {
   "cell_type": "code",
   "execution_count": 13,
   "id": "265f5d47",
   "metadata": {},
   "outputs": [
    {
     "name": "stdout",
     "output_type": "stream",
     "text": [
      "Average is = 22.75\n"
     ]
    }
   ],
   "source": [
    "sum = 0\n",
    "for i in age:\n",
    "    sum = sum + i   #Adding all the numbers in age list to get the total sum\n",
    "print(\"Average is =\", sum/m)        #total sum divided by total no of elements gives the average"
   ]
  },
  {
   "cell_type": "code",
   "execution_count": 17,
   "id": "c363ab47",
   "metadata": {},
   "outputs": [
    {
     "name": "stdout",
     "output_type": "stream",
     "text": [
      "Range of list is 7\n"
     ]
    }
   ],
   "source": [
    "print(\"Range of list is\", maxage-minage)        #maxage - minage gives us the range of the list"
   ]
  },
  {
   "cell_type": "markdown",
   "id": "c4d0edbd",
   "metadata": {},
   "source": [
    "# Question 2"
   ]
  },
  {
   "cell_type": "code",
   "execution_count": 19,
   "id": "29a5aec6",
   "metadata": {},
   "outputs": [
    {
     "name": "stdout",
     "output_type": "stream",
     "text": [
      "Length of student dictionary is : 9\n"
     ]
    }
   ],
   "source": [
    "dog = {}     #creating dictionary\n",
    "dog = {\"name\" : \"Tiesto\", \"color\" : \"Golden\", \"breed\" : \"Golden retriever\", \"legs\" : \"4\", \"age\" : \"2\"}  #adding attributes of the dog\n",
    "student = {\"first_name\" : \"Aayush\", \"last_name\":\"Agrawal\", \"gender\":\"male\", \"age\":\"28\", \"marital status\":\"Single\",\n",
    "\"skills\":[\"Growth Mindset\",\"Adaptability\"], \"country\":\"Nepal\", \"city\":\"Kathmandu\",\"address\":\"Baafal\"}    #Creating student dictionary\n",
    "print(\"Length of student dictionary is :\",len(student))\n"
   ]
  },
  {
   "cell_type": "code",
   "execution_count": 24,
   "id": "d51e53ef",
   "metadata": {},
   "outputs": [
    {
     "name": "stdout",
     "output_type": "stream",
     "text": [
      "Values of skills are: ['Growth Mindset', 'Adaptability']\n"
     ]
    }
   ],
   "source": [
    "print(\"Values of skills are:\", student[\"skills\"])     #Printing the values of skills key in student dictionary"
   ]
  },
  {
   "cell_type": "code",
   "execution_count": 26,
   "id": "1b9377a1",
   "metadata": {},
   "outputs": [
    {
     "name": "stdout",
     "output_type": "stream",
     "text": [
      "Data type of skills is: <class 'list'>\n"
     ]
    }
   ],
   "source": [
    "print(\"Data type of skills is:\",type(student.get(\"skills\")))    ##Getting the data type"
   ]
  },
  {
   "cell_type": "code",
   "execution_count": 27,
   "id": "22f46fc6",
   "metadata": {},
   "outputs": [
    {
     "name": "stdout",
     "output_type": "stream",
     "text": [
      "dict_keys(['first_name', 'last_name', 'gender', 'age', 'marital status', 'skills', 'country', 'city', 'address'])\n"
     ]
    }
   ],
   "source": [
    "student['skills'].append(\"Team Player\")\n",
    "student_keys = student.keys()\n",
    "print(student_keys)      #Getting the keys of student dictionary"
   ]
  },
  {
   "cell_type": "code",
   "execution_count": 28,
   "id": "13c07f7b",
   "metadata": {},
   "outputs": [
    {
     "name": "stdout",
     "output_type": "stream",
     "text": [
      "dict_values(['Aayush', 'Agrawal', 'male', '28', 'Single', ['Growth Mindset', 'Adaptability', 'Team Player'], 'Nepal', 'Kathmandu', 'Baafal'])\n"
     ]
    }
   ],
   "source": [
    "student_values = student.values()\n",
    "print(student_values)       #Printing student values"
   ]
  },
  {
   "cell_type": "markdown",
   "id": "1b0e9ce9",
   "metadata": {},
   "source": [
    "# Question 3"
   ]
  },
  {
   "cell_type": "code",
   "execution_count": 29,
   "id": "af35b5de",
   "metadata": {},
   "outputs": [
    {
     "name": "stdout",
     "output_type": "stream",
     "text": [
      "Total siblings that I have is : 5\n"
     ]
    }
   ],
   "source": [
    "brothers = (\"Abhi\", \"Ankur\")     #Creating a brother tuple\n",
    "sisters = (\"Deevoo\", \"Avantika\", \"Shaalu\")    #creating a sister tuple\n",
    "siblings = brothers + sisters     #Adding 2 tuples\n",
    "print(\"Total siblings that I have is :\", len(siblings))"
   ]
  },
  {
   "cell_type": "code",
   "execution_count": 30,
   "id": "759273fe",
   "metadata": {},
   "outputs": [
    {
     "name": "stdout",
     "output_type": "stream",
     "text": [
      "Members of my family ('Abhi', 'Ankur', 'Deevoo', 'Avantika', 'Shaalu', 'Ajesh', 'Sneha')\n"
     ]
    }
   ],
   "source": [
    "family_members = siblings + (\"Ajesh\", \"Sneha\")\n",
    "print(\"Members of my family\", family_members)"
   ]
  },
  {
   "cell_type": "markdown",
   "id": "93be41ba",
   "metadata": {},
   "source": [
    "# Question 4"
   ]
  },
  {
   "cell_type": "code",
   "execution_count": 31,
   "id": "5455fef7",
   "metadata": {},
   "outputs": [
    {
     "name": "stdout",
     "output_type": "stream",
     "text": [
      "Length of IT companies is 7\n"
     ]
    }
   ],
   "source": [
    "it_companies = {'Facebook', 'Google', 'Microsoft', 'Apple', 'IBM', 'Oracle', 'Amazon'}\n",
    "A = {19, 22, 24, 20, 25, 26}\n",
    "B = {19, 22, 20, 25, 26, 24, 28, 27}\n",
    "age = [22, 19, 24, 25, 26, 24, 25, 24]\n",
    "print(\"Length of IT companies is\",len(it_companies))  "
   ]
  },
  {
   "cell_type": "code",
   "execution_count": 32,
   "id": "08b62ccc",
   "metadata": {},
   "outputs": [
    {
     "name": "stdout",
     "output_type": "stream",
     "text": [
      "Updates IT companies are: {'twitter', 'LinkedIn', 'Google', 'Amazon', 'IBM', 'Audible', 'Microsoft', 'Facebook', 'Oracle', 'Tesla'}\n"
     ]
    }
   ],
   "source": [
    "it_companies.add('twitter')    #Adding a company to the set\n",
    "it_companies.update(['Tesla','LinkedIn','Audible'])   #Adding multiple companies to the set\n",
    "it_companies.remove('Apple')    #Removing a company from the set\n",
    "print(\"Updates IT companies are:\",it_companies)"
   ]
  },
  {
   "cell_type": "code",
   "execution_count": 33,
   "id": "0cd2859c",
   "metadata": {},
   "outputs": [],
   "source": [
    "###Discard function just deletes the element from the set if it is present and if it is not, it does nothing whereas \n",
    "###if we use remove and if the element is not present in the set, then it throws an error"
   ]
  },
  {
   "cell_type": "code",
   "execution_count": 34,
   "id": "00f1c0fd",
   "metadata": {},
   "outputs": [
    {
     "name": "stdout",
     "output_type": "stream",
     "text": [
      "{19, 20, 22, 24, 25, 26, 27, 28}\n"
     ]
    }
   ],
   "source": [
    "print(A.union(B))   #Joining A and B"
   ]
  },
  {
   "cell_type": "code",
   "execution_count": 35,
   "id": "2e6c2080",
   "metadata": {},
   "outputs": [
    {
     "name": "stdout",
     "output_type": "stream",
     "text": [
      "{19, 20, 22, 24, 25, 26}\n"
     ]
    }
   ],
   "source": [
    "print(A.intersection(B))   #Getting the common elements in A and B"
   ]
  },
  {
   "cell_type": "code",
   "execution_count": 36,
   "id": "a15b3295",
   "metadata": {},
   "outputs": [
    {
     "name": "stdout",
     "output_type": "stream",
     "text": [
      "True\n"
     ]
    }
   ],
   "source": [
    "print(A.issubset(B))   #Checking is A is a subset of B or not"
   ]
  },
  {
   "cell_type": "code",
   "execution_count": 37,
   "id": "018d082e",
   "metadata": {},
   "outputs": [
    {
     "name": "stdout",
     "output_type": "stream",
     "text": [
      "False\n"
     ]
    }
   ],
   "source": [
    "print(A.isdisjoint(B))    #Checking if they are disjoint or not"
   ]
  },
  {
   "cell_type": "code",
   "execution_count": 39,
   "id": "c0017b59",
   "metadata": {},
   "outputs": [
    {
     "name": "stdout",
     "output_type": "stream",
     "text": [
      "{19, 20, 22, 24, 25, 26, 27, 28}\n",
      "{19, 20, 22, 24, 25, 26, 27, 28}\n"
     ]
    }
   ],
   "source": [
    "print(A.union(B))\n",
    "print(B.union(A))   #Joining A with B then B with A"
   ]
  },
  {
   "cell_type": "code",
   "execution_count": 40,
   "id": "dbdcb4db",
   "metadata": {},
   "outputs": [
    {
     "name": "stdout",
     "output_type": "stream",
     "text": [
      "{27, 28}\n"
     ]
    }
   ],
   "source": [
    "print(A.symmetric_difference(B))    #Getting the symmetric difference"
   ]
  },
  {
   "cell_type": "code",
   "execution_count": 41,
   "id": "f9df06bc",
   "metadata": {},
   "outputs": [],
   "source": [
    "del A\n",
    "del B   #Deleting A and B"
   ]
  },
  {
   "cell_type": "code",
   "execution_count": 42,
   "id": "0631a9fd",
   "metadata": {},
   "outputs": [
    {
     "data": {
      "text/plain": [
       "{19, 22, 24, 25, 26}"
      ]
     },
     "execution_count": 42,
     "metadata": {},
     "output_type": "execute_result"
    }
   ],
   "source": [
    "set(age)    #Converting age to a set"
   ]
  },
  {
   "cell_type": "code",
   "execution_count": 43,
   "id": "b07381dc",
   "metadata": {},
   "outputs": [
    {
     "name": "stdout",
     "output_type": "stream",
     "text": [
      "False\n"
     ]
    }
   ],
   "source": [
    "print(len(set(age)) == len(age))      #Comparing the length of 2 sets"
   ]
  },
  {
   "cell_type": "markdown",
   "id": "ec849d2d",
   "metadata": {},
   "source": [
    "# Question 5\n"
   ]
  },
  {
   "cell_type": "code",
   "execution_count": 44,
   "id": "9281a502",
   "metadata": {},
   "outputs": [
    {
     "name": "stdout",
     "output_type": "stream",
     "text": [
      "Area of the circle is: 2826.0\n"
     ]
    }
   ],
   "source": [
    "r = 30\n",
    "_area_of_circle = 3.14*r*r\n",
    "print(\"Area of the circle is:\",_area_of_circle)    #Calculating the area of the circle and printing it"
   ]
  },
  {
   "cell_type": "code",
   "execution_count": 45,
   "id": "0db5597d",
   "metadata": {},
   "outputs": [
    {
     "name": "stdout",
     "output_type": "stream",
     "text": [
      "Circumference of the circle is: 188.4\n"
     ]
    }
   ],
   "source": [
    "_circum_of_circle_ = 2*3.14*r\n",
    "print(\"Circumference of the circle is:\",_circum_of_circle_)   #Calculating the circumference of the circle and printing it"
   ]
  },
  {
   "cell_type": "code",
   "execution_count": 46,
   "id": "ab700a80",
   "metadata": {},
   "outputs": [
    {
     "name": "stdout",
     "output_type": "stream",
     "text": [
      "Please enter the radius of the circle:20\n",
      "The new area of the circle is: 1256.0\n"
     ]
    }
   ],
   "source": [
    "rad = int(input(\"Please enter the radius of the circle:\"))   #This line takes input from the user\n",
    "new_area = 3.14*rad*rad\n",
    "print(\"The new area of the circle is:\",new_area)   ##Calculating the area based on input from user"
   ]
  },
  {
   "cell_type": "markdown",
   "id": "200729fa",
   "metadata": {},
   "source": [
    "# Question 6"
   ]
  },
  {
   "cell_type": "code",
   "execution_count": 47,
   "id": "37713406",
   "metadata": {},
   "outputs": [
    {
     "name": "stdout",
     "output_type": "stream",
     "text": [
      "Unique words in the sentence above is: 10\n"
     ]
    }
   ],
   "source": [
    "sentence = \"I am a teacher and I love to inspire and teach people\"\n",
    "print(\"Unique words in the sentence above is:\",len(set(sentence.split())))   #Gives the unique words in the string"
   ]
  },
  {
   "cell_type": "markdown",
   "id": "1c0bdf5d",
   "metadata": {},
   "source": [
    "# Question 7\n"
   ]
  },
  {
   "cell_type": "code",
   "execution_count": 48,
   "id": "601995e9",
   "metadata": {},
   "outputs": [
    {
     "name": "stdout",
     "output_type": "stream",
     "text": [
      "Name\t\tAge\tCountry\tCity\n",
      "Asabeneh\t250\tFinland\tHelsinki\n"
     ]
    }
   ],
   "source": [
    "print(\"Name\\t\\tAge\\tCountry\\tCity\\nAsabeneh\\t250\\tFinland\\tHelsinki\")   #Using tab escape to print the format as given"
   ]
  },
  {
   "cell_type": "markdown",
   "id": "9c55ddc9",
   "metadata": {},
   "source": [
    "# Question 8"
   ]
  },
  {
   "cell_type": "code",
   "execution_count": 50,
   "id": "c2829e89",
   "metadata": {},
   "outputs": [
    {
     "name": "stdout",
     "output_type": "stream",
     "text": [
      "\n",
      "radius = 10\n",
      "area = 3.14 * radius ** 2\n",
      "The area of a circle with radius 10 is 314 meters square.\n"
     ]
    }
   ],
   "source": [
    "print(f'\\nradius = {10}')     #Using String formatting to display the sentences\n",
    "print(f'area = {3.14} * radius ** {2}')\n",
    "print(f'The area of a circle with radius {10} is {314} meters square.')"
   ]
  },
  {
   "cell_type": "markdown",
   "id": "c0bf8d7c",
   "metadata": {},
   "source": [
    "# Question 9"
   ]
  },
  {
   "cell_type": "code",
   "execution_count": 51,
   "id": "f7fd88a6",
   "metadata": {},
   "outputs": [
    {
     "name": "stdout",
     "output_type": "stream",
     "text": [
      "Please enter weights of 5 different individuals in pounds\n",
      "10\n",
      "20\n",
      "30\n",
      "40\n",
      "50\n",
      "[4.53592, 9.07184, 13.607759999999999, 18.14368, 22.6796]\n"
     ]
    }
   ],
   "source": [
    "weights = []\n",
    "print(\"Please enter weights of 5 different individuals in pounds\")\n",
    "for i in range(0,5):\n",
    "    weight = float(input())   #Getting 5 different inputs from users\n",
    "    weights.append(weight)    #Adding it to the list\n",
    "\n",
    "weights_kg = []     #Declaring a new list which will contain the weight in kgs\n",
    "for i in range(0,5):\n",
    "    new_weight = weights[i] * 0.453592   #Going through thte list in pounds and converting it into kgs\n",
    "    weights_kg.append(new_weight)        #Adding it to the new list\n",
    "print(weights_kg)"
   ]
  }
 ],
 "metadata": {
  "kernelspec": {
   "display_name": "Python 3 (ipykernel)",
   "language": "python",
   "name": "python3"
  },
  "language_info": {
   "codemirror_mode": {
    "name": "ipython",
    "version": 3
   },
   "file_extension": ".py",
   "mimetype": "text/x-python",
   "name": "python",
   "nbconvert_exporter": "python",
   "pygments_lexer": "ipython3",
   "version": "3.9.7"
  }
 },
 "nbformat": 4,
 "nbformat_minor": 5
}
